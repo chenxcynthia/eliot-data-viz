{
 "cells": [
  {
   "cell_type": "code",
   "execution_count": 1,
   "id": "18d134a7",
   "metadata": {},
   "outputs": [],
   "source": [
    "import csv\n",
    "import pandas as pd"
   ]
  },
  {
   "cell_type": "code",
   "execution_count": 61,
   "id": "b2073233",
   "metadata": {},
   "outputs": [],
   "source": [
    "df = pd.read_csv('data.csv')    "
   ]
  },
  {
   "cell_type": "code",
   "execution_count": 10,
   "id": "4306ddd9",
   "metadata": {},
   "outputs": [],
   "source": [
    "from geopy.geocoders import Nominatim\n",
    "geolocator = Nominatim(user_agent=\"cynthia-app\")"
   ]
  },
  {
   "cell_type": "code",
   "execution_count": 24,
   "id": "da6d2f4e",
   "metadata": {},
   "outputs": [],
   "source": [
    "df['latitude'] = df.apply(lambda row: geolocator.geocode(row['hometown']).latitude, axis = 1)"
   ]
  },
  {
   "cell_type": "code",
   "execution_count": 26,
   "id": "1a45b338",
   "metadata": {},
   "outputs": [],
   "source": [
    "df['longitude'] = df.apply(lambda row: geolocator.geocode(row['hometown']).longitude, axis = 1)"
   ]
  },
  {
   "cell_type": "code",
   "execution_count": 71,
   "id": "079ce5d5",
   "metadata": {},
   "outputs": [],
   "source": [
    "# create id dict\n",
    "id_to_name = {}\n",
    "\n",
    "for i in range(len(df)):\n",
    "    id_to_name[df.iloc[i]['name'].strip(' ')] = i\n",
    "    \n",
    "respondent_names = list(id_to_name.keys())"
   ]
  },
  {
   "cell_type": "code",
   "execution_count": 72,
   "id": "ad025260",
   "metadata": {},
   "outputs": [],
   "source": [
    "for i in range(len(df)):\n",
    "    s = df.iloc[i]['roommates']\n",
    "    if type(s) != str: continue\n",
    "    s = s.replace('\\n', ', ')\n",
    "    split_list = s.split(', ')\n",
    "    roommates_list = []\n",
    "    for s in split_list:\n",
    "        cleaned_name = s.strip(',').strip(' ')\n",
    "        if cleaned_name not in id_to_name:\n",
    "            id_to_name[cleaned_name] = len(id_to_name)\n",
    "        roommates_list.append(cleaned_name)\n",
    "        \n",
    "    s = df.iloc[i]['people']\n",
    "    if type(s) != str: continue\n",
    "    s = s.replace('\\n', ', ')\n",
    "    split_list = s.split(', ')\n",
    "    people_list = []\n",
    "    for s in split_list:\n",
    "        cleaned_name = s.strip(',').strip(' ')\n",
    "        if cleaned_name not in id_to_name:\n",
    "            id_to_name[cleaned_name] = len(id_to_name)\n",
    "        people_list.append(cleaned_name)"
   ]
  },
  {
   "cell_type": "code",
   "execution_count": null,
   "id": "0132d679",
   "metadata": {},
   "outputs": [],
   "source": [
    "for i in range(len(df)):\n",
    "    s = df.iloc[i]['roommates']\n",
    "    if type(s) != str: continue\n",
    "    s = s.replace('\\n', ', ')\n",
    "    split_list = s.split(', ')\n",
    "    roommates_list = []\n",
    "    for s in split_list:\n",
    "        cleaned_name = s.strip(',').strip(' ')\n",
    "        if cleaned_name not in id_to_name:\n",
    "            id_to_name[cleaned_name] = len(id_to_name)\n",
    "        roommates_list.append(cleaned_name)\n",
    "        \n",
    "    s = df.iloc[i]['people']\n",
    "    if type(s) != str: continue\n",
    "    s = s.replace('\\n', ', ')\n",
    "    split_list = s.split(', ')\n",
    "    people_list = []\n",
    "    for s in split_list:\n",
    "        cleaned_name = s.strip(',').strip(' ')\n",
    "        if cleaned_name not in id_to_name:\n",
    "            id_to_name[cleaned_name] = len(id_to_name)\n",
    "        people_list.append(cleaned_name)"
   ]
  },
  {
   "cell_type": "code",
   "execution_count": null,
   "id": "61a8c577",
   "metadata": {},
   "outputs": [],
   "source": []
  }
 ],
 "metadata": {
  "kernelspec": {
   "display_name": "py_cs73",
   "language": "python",
   "name": "py_cs73"
  },
  "language_info": {
   "codemirror_mode": {
    "name": "ipython",
    "version": 3
   },
   "file_extension": ".py",
   "mimetype": "text/x-python",
   "name": "python",
   "nbconvert_exporter": "python",
   "pygments_lexer": "ipython3",
   "version": "3.9.12"
  }
 },
 "nbformat": 4,
 "nbformat_minor": 5
}
