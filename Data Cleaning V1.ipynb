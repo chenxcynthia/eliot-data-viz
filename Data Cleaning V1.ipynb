{
 "cells": [
  {
   "cell_type": "code",
   "execution_count": 163,
   "id": "18d134a7",
   "metadata": {},
   "outputs": [],
   "source": [
    "import csv\n",
    "import pandas as pd\n",
    "import math\n",
    "import numpy as np\n",
    "import random\n",
    "import matplotlib.pyplot as plt\n",
    "from matplotlib.pyplot import figure"
   ]
  },
  {
   "cell_type": "code",
   "execution_count": 51,
   "id": "b2073233",
   "metadata": {},
   "outputs": [],
   "source": [
    "df = pd.read_csv('data/original_data.csv')    "
   ]
  },
  {
   "cell_type": "markdown",
   "id": "e343acfc",
   "metadata": {},
   "source": [
    "### Extract latitude + longitude data from hometown"
   ]
  },
  {
   "cell_type": "code",
   "execution_count": 52,
   "id": "4306ddd9",
   "metadata": {},
   "outputs": [],
   "source": [
    "from geopy.geocoders import Nominatim\n",
    "geolocator = Nominatim(user_agent=\"cynthia-app\")\n",
    "\n",
    "# df['latitude'] = df.apply(lambda row: geolocator.geocode(row['hometown']).latitude, axis = 1)\n",
    "# df['longitude'] = df.apply(lambda row: geolocator.geocode(row['hometown']).longitude, axis = 1)"
   ]
  },
  {
   "cell_type": "code",
   "execution_count": 65,
   "id": "62812df9",
   "metadata": {},
   "outputs": [],
   "source": [
    "latitude = []\n",
    "for i in range(len(df)):\n",
    "    h = df.iloc[i]['hometown']\n",
    "    latitude.append(geolocator.geocode(h).latitude)"
   ]
  },
  {
   "cell_type": "code",
   "execution_count": 60,
   "id": "fa535365",
   "metadata": {},
   "outputs": [],
   "source": [
    "longitude = []\n",
    "for i in range(len(df)):\n",
    "    h = df.iloc[i]['hometown']\n",
    "    longitude.append(geolocator.geocode(h).longitude)"
   ]
  },
  {
   "cell_type": "code",
   "execution_count": 297,
   "id": "9a0bb5cf",
   "metadata": {},
   "outputs": [],
   "source": [
    "coordinates = []\n",
    "for i in range(len(df)):\n",
    "    coordinates.append([latitude[i], longitude[i]])\n",
    "coordinates = np.array(coordinates)"
   ]
  },
  {
   "cell_type": "code",
   "execution_count": 298,
   "id": "a066e669",
   "metadata": {},
   "outputs": [],
   "source": [
    "from lloyd import Field\n",
    "\n",
    "field = Field(coordinates)\n",
    "for i in range(5): #18, 5\n",
    "    field.relax()\n",
    "    \n",
    "transformed = field.get_points()\n",
    "x = transformed[:, 0]\n",
    "transformed[:, 0] = (x - min(x))/(max(x) - min(x))*1050 + 120\n",
    "y = field.get_points()[:, 1]\n",
    "transformed[:, 1] = (y - min(y))/(max(y) - min(y))*2900 + 80"
   ]
  },
  {
   "cell_type": "code",
   "execution_count": 299,
   "id": "14280539",
   "metadata": {
    "scrolled": true
   },
   "outputs": [
    {
     "data": {
      "text/plain": [
       "<matplotlib.collections.PathCollection at 0x7fef5f8eab50>"
      ]
     },
     "execution_count": 299,
     "metadata": {},
     "output_type": "execute_result"
    },
    {
     "data": {
      "image/png": "[encoded data removed]",
      "text/plain": [
       "<Figure size 500x1280 with 1 Axes>"
      ]
     },
     "metadata": {
      "needs_background": "light"
     },
     "output_type": "display_data"
    }
   ],
   "source": [
    "figure(figsize=(12.5/2, 16), dpi=80)\n",
    "plt.scatter(transformed[:, 0], transformed[:, 1])"
   ]
  },
  {
   "cell_type": "code",
   "execution_count": 300,
   "id": "701cd954",
   "metadata": {},
   "outputs": [],
   "source": [
    "df['latitude'] = transformed[:, 0]\n",
    "df['longitude'] = transformed[:, 1]"
   ]
  },
  {
   "cell_type": "markdown",
   "id": "feb2724a",
   "metadata": {},
   "source": [
    "### ID data"
   ]
  },
  {
   "cell_type": "code",
   "execution_count": 301,
   "id": "079ce5d5",
   "metadata": {},
   "outputs": [],
   "source": [
    "# create id dict\n",
    "info_by_name = {}\n",
    "\n",
    "for i in range(len(df)):\n",
    "    info_by_name[df.iloc[i]['name'].strip(' ')] = {'id': i}\n",
    "    \n",
    "respondent_names = list(info_by_name.keys())\n",
    "num_respondents = len(respondent_names)"
   ]
  },
  {
   "cell_type": "code",
   "execution_count": 302,
   "id": "ad025260",
   "metadata": {},
   "outputs": [],
   "source": [
    "for i in range(len(df)):\n",
    "    s = df.iloc[i]['roommates']\n",
    "    if type(s) != str: continue\n",
    "    s = s.replace('\\n', ', ')\n",
    "    split_list = s.split(', ')\n",
    "    roommates_list = []\n",
    "    for s in split_list:\n",
    "        cleaned_name = s.strip(',').strip(' ')\n",
    "        if cleaned_name not in info_by_name:\n",
    "            info_by_name[cleaned_name] = {'id': len(info_by_name), 'connections': set()}\n",
    "        roommates_list.append(cleaned_name)\n",
    "        \n",
    "    s = df.iloc[i]['people']\n",
    "    if type(s) != str: continue\n",
    "    s = s.replace('\\n', ', ')\n",
    "    split_list = s.split(', ')\n",
    "    people_list = []\n",
    "    for s in split_list:\n",
    "        cleaned_name = s.strip(',').strip(' ')\n",
    "        if cleaned_name not in info_by_name:\n",
    "            info_by_name[cleaned_name] = {'id': len(info_by_name), 'connections': set()}\n",
    "        people_list.append(cleaned_name)"
   ]
  },
  {
   "cell_type": "markdown",
   "id": "c308e01b",
   "metadata": {},
   "source": [
    "### Connections"
   ]
  },
  {
   "cell_type": "code",
   "execution_count": 324,
   "id": "02a598eb",
   "metadata": {},
   "outputs": [],
   "source": [
    "roommates_respondents = []\n",
    "friendships_respondents = []\n",
    "roommates_other = []\n",
    "friendships_other = []\n",
    "\n",
    "connects_per_indiv = []\n",
    "\n",
    "for i in range(len(df)):\n",
    "    respondent_name = df.iloc[i]['name']\n",
    "    respondent_id = i\n",
    "    curr_num_connect = 0\n",
    "    \n",
    "    s = df.iloc[i]['roommates']\n",
    "    if type(s) == str:\n",
    "        s = s.replace('\\n', ', ')\n",
    "        split_list = s.split(', ')\n",
    "\n",
    "        curr_num_connect += len(split_list)\n",
    "        for s in split_list:\n",
    "            roommate_name = s.strip(',').strip(' ')\n",
    "            roommate_id = info_by_name[roommate_name]['id']\n",
    "            if roommate_id < num_respondents:\n",
    "                roommates_respondents.append([min(respondent_id, roommate_id), max(respondent_id, roommate_id)])\n",
    "            else:\n",
    "                roommates_other.append([respondent_id, roommate_id])\n",
    "                info_by_name[roommate_name]['connections'].add(respondent_id)\n",
    "            \n",
    "    s = df.iloc[i]['people']\n",
    "    if type(s) == str:\n",
    "        s = s.replace('\\n', ', ')\n",
    "        split_list = s.split(', ')\n",
    "\n",
    "        curr_num_connect += len(split_list)\n",
    "        for s in split_list:\n",
    "            friend_name = s.strip(',').strip(' ')\n",
    "            friend_id = info_by_name[friend_name]['id']\n",
    "            if friend_id < num_respondents:\n",
    "                friendships_respondents.append([min(respondent_id, friend_id), max(respondent_id, friend_id)])\n",
    "            else:\n",
    "                friendships_other.append([respondent_id, friend_id])\n",
    "                info_by_name[friend_name]['connections'].add(respondent_id)\n",
    "                \n",
    "    connects_per_indiv.append(curr_num_connect)"
   ]
  },
  {
   "cell_type": "code",
   "execution_count": 325,
   "id": "d5ee0b8d",
   "metadata": {},
   "outputs": [
    {
     "name": "stdout",
     "output_type": "stream",
     "text": [
      "665 connections visualized!!\n"
     ]
    }
   ],
   "source": [
    "roommates_respondents = list(list(i) for i in set(tuple(i) for i in roommates_respondents))\n",
    "friendships_respondents = list(list(i) for i in set(tuple(i) for i in friendships_respondents))\n",
    "\n",
    "num_connections = sum([len(roommates_respondents), len(friendships_respondents), \n",
    "                       len(roommates_other), len(friendships_other)])\n",
    "print(num_connections, 'connections visualized!!')"
   ]
  },
  {
   "cell_type": "markdown",
   "id": "534bec2d",
   "metadata": {},
   "source": [
    "## Compile Respondent Data"
   ]
  },
  {
   "cell_type": "markdown",
   "id": "7e9cc818",
   "metadata": {},
   "source": [
    "#### Concentration Encoding"
   ]
  },
  {
   "cell_type": "code",
   "execution_count": 326,
   "id": "d403021b",
   "metadata": {},
   "outputs": [],
   "source": [
    "conc_to_id = {}\n",
    "for curr in df['concentration']:\n",
    "    if 'Secondary' in curr:\n",
    "        curr = curr.replace(', Secondary in ', ' + ')\n",
    "    curr_list = curr.split(' + ')\n",
    "    for c in curr_list:\n",
    "        if c[-1] == \" \":\n",
    "            c = c[:-1]\n",
    "        if c not in conc_to_id:\n",
    "            conc_to_id[c] = len(conc_to_id)"
   ]
  },
  {
   "cell_type": "markdown",
   "id": "83237df6",
   "metadata": {},
   "source": [
    "#### State/Country Encoding"
   ]
  },
  {
   "cell_type": "code",
   "execution_count": 327,
   "id": "3d0412b2",
   "metadata": {},
   "outputs": [],
   "source": [
    "state_to_id = {'International': 0}\n",
    "for curr in df['hometown']:\n",
    "    s = curr.split(', ')\n",
    "    if len(s) == 3:\n",
    "        state = s[1]\n",
    "        if state not in state_to_id:\n",
    "            state_to_id[state] = len(state_to_id)"
   ]
  },
  {
   "cell_type": "code",
   "execution_count": 328,
   "id": "f1dc56a1",
   "metadata": {},
   "outputs": [],
   "source": [
    "data = []\n",
    "for i in range(num_respondents):\n",
    "    row = df.iloc[i]\n",
    "    \n",
    "    # get state or country \n",
    "    where_from = ''\n",
    "    s = row['hometown'].split(', ')\n",
    "    if len(s) == 3:\n",
    "        where_from = state_to_id[s[1]]\n",
    "    else:\n",
    "        where_from = '0'\n",
    "        \n",
    "    # get concentration encoding\n",
    "    conc_code = []\n",
    "    conc = row['concentration']\n",
    "    secondary_code = -1\n",
    "    if 'Secondary' in conc:\n",
    "        conc_secondary_split = conc.split(', Secondary in ')\n",
    "        secondary = conc_secondary_split[-1]\n",
    "        if secondary[-1] == \" \": secondary = secondary[:-1]\n",
    "        secondary_code = conc_to_id[secondary]\n",
    "        conc = conc_secondary_split[0]\n",
    "    conc_list = conc.split(' + ')\n",
    "    for c in conc_list:\n",
    "        if c[-1] == \" \": c = c[:-1]\n",
    "        conc_code.append(conc_to_id[c])\n",
    "    \n",
    "    x = row['latitude']\n",
    "    y = row['longitude']\n",
    "    person_info = [i, row['name'], x, y, where_from, row['class'], conc_code, secondary_code]\n",
    "    \n",
    "    data.append(person_info)\n",
    "    \n",
    "respondent_data = pd.DataFrame(data, columns=['id', 'name', 'x', 'y', 'from', \n",
    "                                              'class', 'concentration', 'secondary'])\n",
    "respondent_data['num_connections'] = connects_per_indiv"
   ]
  },
  {
   "cell_type": "markdown",
   "id": "1fc395e1",
   "metadata": {},
   "source": [
    "## Compile data for non-respondents"
   ]
  },
  {
   "cell_type": "code",
   "execution_count": 338,
   "id": "e745e23f",
   "metadata": {},
   "outputs": [],
   "source": [
    "data = []\n",
    "\n",
    "for name in info_by_name:\n",
    "    if name in respondent_names:\n",
    "        continue\n",
    "    row = info_by_name[name]\n",
    "    curr_data = [row['id'], name]\n",
    "    \n",
    "    # Compute placement in visualization\n",
    "    # If number connections > 1, take average location of connections to get location\n",
    "    # Otherwise random around a circle of single connection\n",
    "    conns = list(row['connections'])\n",
    "    num_connections = len(conns)\n",
    "    x = 0\n",
    "    y = 0\n",
    "    if num_connections > 1:\n",
    "        sum_x = 0\n",
    "        sum_y = 0\n",
    "        for c in conns:\n",
    "            sum_x += respondent_data.iloc[c]['x']\n",
    "            sum_y += respondent_data.iloc[c]['y']\n",
    "        x = sum_x / num_connections\n",
    "        y = sum_y / num_connections\n",
    "        # can add randomness factor here\n",
    "    else:\n",
    "        single_conn = conns[0]\n",
    "        theta = random.randrange(0, 360)\n",
    "        num_conns = respondent_data.iloc[single_conn]['num_connections']\n",
    "        r = random.randrange(max(60, num_conns), max(150, num_conns*3))\n",
    "        x = respondent_data.iloc[single_conn]['x'] + r*math.cos(theta)\n",
    "        y = respondent_data.iloc[single_conn]['y'] + r*math.sin(theta)\n",
    "        \n",
    "    curr_data.append(x)\n",
    "    curr_data.append(y)\n",
    "\n",
    "    data.append(curr_data)\n",
    "\n",
    "other_data = pd.DataFrame(data, columns=['id', 'name', 'x', 'y'])"
   ]
  },
  {
   "cell_type": "code",
   "execution_count": 339,
   "id": "0e9a52fc",
   "metadata": {},
   "outputs": [
    {
     "data": {
      "text/plain": [
       "<matplotlib.collections.PathCollection at 0x7fef605a9250>"
      ]
     },
     "execution_count": 339,
     "metadata": {},
     "output_type": "execute_result"
    },
    {
     "data": {
      "image/png": "[encoded data removed]",
      "text/plain": [
       "<Figure size 500x1280 with 1 Axes>"
      ]
     },
     "metadata": {
      "needs_background": "light"
     },
     "output_type": "display_data"
    }
   ],
   "source": [
    "figure(figsize=(12.5/2, 16), dpi=80)\n",
    "plt.scatter(other_data['x'], other_data['y'], s = 5)"
   ]
  },
  {
   "cell_type": "markdown",
   "id": "c8f8b3b4",
   "metadata": {},
   "source": [
    "## Export data for visualization in p5.js"
   ]
  },
  {
   "cell_type": "code",
   "execution_count": 340,
   "id": "16f6fcc1",
   "metadata": {},
   "outputs": [],
   "source": [
    "# Individual data\n",
    "other_data.to_csv('data/other_data.csv', index = False)\n",
    "respondent_data.to_csv('data/respondent_data.csv', index = False)"
   ]
  },
  {
   "cell_type": "code",
   "execution_count": 341,
   "id": "dec72702",
   "metadata": {},
   "outputs": [],
   "source": [
    "# Connections data\n",
    "with open(\"data/roommates_respondents.csv\", \"w\", newline=\"\") as f:\n",
    "    writer = csv.writer(f)\n",
    "    writer.writerows(roommates_respondents)\n",
    "    \n",
    "with open(\"data/friendships_respondents.csv\", \"w\", newline=\"\") as f:\n",
    "    writer = csv.writer(f)\n",
    "    writer.writerows(friendships_respondents)\n",
    "    \n",
    "with open(\"data/roommates_other.csv\", \"w\", newline=\"\") as f:\n",
    "    writer = csv.writer(f)\n",
    "    writer.writerows(roommates_other)\n",
    "    \n",
    "with open(\"data/friendships_other.csv\", \"w\", newline=\"\") as f:\n",
    "    writer = csv.writer(f)\n",
    "    writer.writerows(friendships_other)"
   ]
  },
  {
   "cell_type": "code",
   "execution_count": null,
   "id": "0086fed4",
   "metadata": {},
   "outputs": [],
   "source": []
  }
 ],
 "metadata": {
  "kernelspec": {
   "display_name": "py_cs73",
   "language": "python",
   "name": "py_cs73"
  },
  "language_info": {
   "codemirror_mode": {
    "name": "ipython",
    "version": 3
   },
   "file_extension": ".py",
   "mimetype": "text/x-python",
   "name": "python",
   "nbconvert_exporter": "python",
   "pygments_lexer": "ipython3",
   "version": "3.9.12"
  }
 },
 "nbformat": 4,
 "nbformat_minor": 5
}
