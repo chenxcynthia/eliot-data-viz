{
 "cells": [
  {
   "cell_type": "code",
   "execution_count": 1,
   "id": "18d134a7",
   "metadata": {},
   "outputs": [],
   "source": [
    "import csv\n",
    "import pandas as pd\n",
    "import math\n",
    "import random\n"
   ]
  },
  {
   "cell_type": "code",
   "execution_count": 4,
   "id": "b2073233",
   "metadata": {},
   "outputs": [],
   "source": [
    "df = pd.read_csv('data/original_data.csv')    "
   ]
  },
  {
   "cell_type": "code",
   "execution_count": 6,
   "id": "4306ddd9",
   "metadata": {},
   "outputs": [],
   "source": [
    "from geopy.geocoders import Nominatim\n",
    "geolocator = Nominatim(user_agent=\"cynthia-app\")"
   ]
  },
  {
   "cell_type": "code",
   "execution_count": 8,
   "id": "62812df9",
   "metadata": {},
   "outputs": [],
   "source": [
    "df['latitude'] = df.apply(lambda row: geolocator.geocode(row['hometown']).latitude, axis = 1)"
   ]
  },
  {
   "cell_type": "code",
   "execution_count": 123,
   "id": "763d50a6",
   "metadata": {},
   "outputs": [],
   "source": [
    "df['longitude'] = df.apply(lambda row: geolocator.geocode(row['hometown']).longitude, axis = 1)"
   ]
  },
  {
   "cell_type": "markdown",
   "id": "feb2724a",
   "metadata": {},
   "source": [
    "### ID data"
   ]
  },
  {
   "cell_type": "code",
   "execution_count": 9,
   "id": "079ce5d5",
   "metadata": {},
   "outputs": [],
   "source": [
    "# create id dict\n",
    "info_by_name = {}\n",
    "\n",
    "for i in range(len(df)):\n",
    "    info_by_name[df.iloc[i]['name'].strip(' ')] = {'id': i}\n",
    "    \n",
    "respondent_names = list(info_by_name.keys())\n",
    "num_respondents = len(respondent_names)"
   ]
  },
  {
   "cell_type": "code",
   "execution_count": 10,
   "id": "ad025260",
   "metadata": {},
   "outputs": [],
   "source": [
    "for i in range(len(df)):\n",
    "    s = df.iloc[i]['roommates']\n",
    "    if type(s) != str: continue\n",
    "    s = s.replace('\\n', ', ')\n",
    "    split_list = s.split(', ')\n",
    "    roommates_list = []\n",
    "    for s in split_list:\n",
    "        cleaned_name = s.strip(',').strip(' ')\n",
    "        if cleaned_name not in info_by_name:\n",
    "            info_by_name[cleaned_name] = {'id': len(info_by_name), 'connections': set()}\n",
    "        roommates_list.append(cleaned_name)\n",
    "        \n",
    "    s = df.iloc[i]['people']\n",
    "    if type(s) != str: continue\n",
    "    s = s.replace('\\n', ', ')\n",
    "    split_list = s.split(', ')\n",
    "    people_list = []\n",
    "    for s in split_list:\n",
    "        cleaned_name = s.strip(',').strip(' ')\n",
    "        if cleaned_name not in info_by_name:\n",
    "            info_by_name[cleaned_name] = {'id': len(info_by_name), 'connections': set()}\n",
    "        people_list.append(cleaned_name)"
   ]
  },
  {
   "cell_type": "markdown",
   "id": "c308e01b",
   "metadata": {},
   "source": [
    "### Connections"
   ]
  },
  {
   "cell_type": "code",
   "execution_count": 40,
   "id": "02a598eb",
   "metadata": {},
   "outputs": [],
   "source": [
    "roommates_respondents = []\n",
    "friendships_respndents = []\n",
    "roommates_other = []\n",
    "friendships_other = []\n",
    "\n",
    "for i in range(len(df)):\n",
    "    respondent_name = df.iloc[i]['name']\n",
    "    respondent_id = i\n",
    "    \n",
    "    s = df.iloc[i]['roommates']\n",
    "    if type(s) != str: continue\n",
    "    s = s.replace('\\n', ', ')\n",
    "    split_list = s.split(', ')\n",
    "    \n",
    "    for s in split_list:\n",
    "        roommate_name = s.strip(',').strip(' ')\n",
    "        roommate_id = info_by_name[roommate_name]['id']\n",
    "        if roommate_id < num_respondents:\n",
    "            roommates_respondents.append([min(respondent_id, roommate_id), max(respondent_id, roommate_id)])\n",
    "        else:\n",
    "            roommates_other.append([respondent_id, roommate_id])\n",
    "            info_by_name[roommate_name]['connections'].add(respondent_id)\n",
    "            \n",
    "    s = df.iloc[i]['people']\n",
    "    if type(s) != str: continue\n",
    "    s = s.replace('\\n', ', ')\n",
    "    split_list = s.split(', ')\n",
    "    for s in split_list:\n",
    "        friend_name = s.strip(',').strip(' ')\n",
    "        friend_id = info_by_name[friend_name]['id']\n",
    "        if friend_id < num_respondents:\n",
    "            friendships_respndents.append([min(respondent_id, friend_id), max(respondent_id, friend_id)])\n",
    "        else:\n",
    "            friendships_other.append([respondent_id, friend_id])\n",
    "            info_by_name[friend_name]['connections'].add(respondent_id)"
   ]
  },
  {
   "cell_type": "code",
   "execution_count": 41,
   "id": "d5ee0b8d",
   "metadata": {},
   "outputs": [
    {
     "name": "stdout",
     "output_type": "stream",
     "text": [
      "665 connections visualized!!\n"
     ]
    }
   ],
   "source": [
    "roommates_respondents = list(list(i) for i in set(tuple(i) for i in roommates_respondents))\n",
    "friendships_respndents = list(list(i) for i in set(tuple(i) for i in friendships_respndents))\n",
    "\n",
    "num_connections = sum([len(roommates_respondents), len(friendships_respndents), \n",
    "                       len(roommates_other), len(friendships_other)])\n",
    "print(num_connections, 'connections visualized!!')"
   ]
  },
  {
   "cell_type": "markdown",
   "id": "37e6daff",
   "metadata": {},
   "source": [
    "### Hometown"
   ]
  },
  {
   "cell_type": "code",
   "execution_count": 42,
   "id": "b4bb3807",
   "metadata": {},
   "outputs": [],
   "source": [
    "# do some force field stuff for lat + longitude\n",
    "\n",
    "# also scale proportionally to 25 by 64 piece"
   ]
  },
  {
   "cell_type": "markdown",
   "id": "534bec2d",
   "metadata": {},
   "source": [
    "## Compile Respondent Data"
   ]
  },
  {
   "cell_type": "markdown",
   "id": "7e9cc818",
   "metadata": {},
   "source": [
    "#### Concentration Encoding"
   ]
  },
  {
   "cell_type": "code",
   "execution_count": 43,
   "id": "d403021b",
   "metadata": {},
   "outputs": [],
   "source": [
    "conc_to_id = {}\n",
    "for curr in df['concentration']:\n",
    "    if 'Secondary' in curr:\n",
    "        curr = curr.replace(', Secondary in ', ' + ')\n",
    "    curr_list = curr.split(' + ')\n",
    "    for c in curr_list:\n",
    "        if c[-1] == \" \":\n",
    "            c = c[:-1]\n",
    "        if c not in conc_to_id:\n",
    "            conc_to_id[c] = len(conc_to_id)"
   ]
  },
  {
   "cell_type": "markdown",
   "id": "83237df6",
   "metadata": {},
   "source": [
    "#### State/Country Encoding"
   ]
  },
  {
   "cell_type": "code",
   "execution_count": 44,
   "id": "3d0412b2",
   "metadata": {},
   "outputs": [],
   "source": [
    "state_to_id = {'International': 0}\n",
    "for curr in df['hometown']:\n",
    "    s = curr.split(', ')\n",
    "    if len(s) == 3:\n",
    "        state = s[1]\n",
    "        if state not in state_to_id:\n",
    "            state_to_id[state] = len(state_to_id)"
   ]
  },
  {
   "cell_type": "code",
   "execution_count": 48,
   "id": "f1dc56a1",
   "metadata": {},
   "outputs": [],
   "source": [
    "data = []\n",
    "for i in range(num_respondents):\n",
    "    row = df.iloc[i]\n",
    "    \n",
    "    # get state or country \n",
    "    where_from = ''\n",
    "    s = row['hometown'].split(', ')\n",
    "    if len(s) == 3:\n",
    "        where_from = state_to_id[s[1]]\n",
    "    else:\n",
    "        where_from = '0'\n",
    "        \n",
    "    # get concentration encoding\n",
    "    conc_code = []\n",
    "    conc = row['concentration']\n",
    "    secondary_code = -1\n",
    "    if 'Secondary' in conc:\n",
    "        conc_secondary_split = conc.split(', Secondary in ')\n",
    "        secondary = conc_secondary_split[-1]\n",
    "        if secondary[-1] == \" \": secondary = secondary[:-1]\n",
    "        secondary_code = conc_to_id[secondary]\n",
    "        conc = conc_secondary_split[0]\n",
    "    conc_list = conc.split(' + ')\n",
    "    for c in conc_list:\n",
    "        if c[-1] == \" \": c = c[:-1]\n",
    "        conc_code.append(conc_to_id[c])\n",
    "    \n",
    "    x = random.randrange(-500, 500) # row['latitude']\n",
    "    y = random.randrange(-500, 500) # row['longitude']\n",
    "    person_info = [i, row['name'], x, y, where_from, row['class'], conc_code, secondary_code]\n",
    "    \n",
    "    data.append(person_info)\n",
    "    \n",
    "respondent_data = pd.DataFrame(data, columns=['id', 'name', 'x', 'y', 'from', \n",
    "                                              'class', 'concentration', 'secondary'])"
   ]
  },
  {
   "cell_type": "markdown",
   "id": "1fc395e1",
   "metadata": {},
   "source": [
    "## Compile data for non-respondents"
   ]
  },
  {
   "cell_type": "code",
   "execution_count": 47,
   "id": "e745e23f",
   "metadata": {},
   "outputs": [],
   "source": [
    "data = []\n",
    "\n",
    "for name in info_by_name:\n",
    "    if name in respondent_names:\n",
    "        continue\n",
    "    row = info_by_name[name]\n",
    "    curr_data = [row['id'], name]\n",
    "    \n",
    "    # Compute placement in visualization\n",
    "    # If number connections > 1, take average location of connections to get location\n",
    "    # Otherwise random around a circle of single connection\n",
    "    conns = list(row['connections'])\n",
    "    num_connections = len(row['connections'])\n",
    "    x = 0\n",
    "    y = 0\n",
    "    if num_connections > 1:\n",
    "        sum_x = 0\n",
    "        sum_y = 0\n",
    "        for c in conns:\n",
    "            sum_x += respondent_data.iloc[c]['x']\n",
    "            sum_y += respondent_data.iloc[c]['x']\n",
    "        x = sum_x / num_connections\n",
    "        y = sum_y / num_connections\n",
    "        # can add randomness factor here\n",
    "    else:\n",
    "        single_conn = conns[0]\n",
    "        theta = random.randrange(0, 360)\n",
    "        r = random.randrange(10, 15)\n",
    "        x = respondent_data.iloc[c]['x'] + r*math.cos(theta)\n",
    "        y = respondent_data.iloc[c]['x'] + r*math.sin(theta)\n",
    "        \n",
    "    curr_data.append(x)\n",
    "    curr_data.append(y)\n",
    "\n",
    "    data.append(curr_data)\n",
    "\n",
    "other_data = pd.DataFrame(data, columns=['id', 'name', 'x', 'y'])"
   ]
  },
  {
   "cell_type": "markdown",
   "id": "98a7b337",
   "metadata": {},
   "source": [
    "## Export data for visualization in p5.js"
   ]
  },
  {
   "cell_type": "code",
   "execution_count": 35,
   "id": "b6787717",
   "metadata": {},
   "outputs": [],
   "source": [
    "# Individual data\n",
    "other_data.to_csv('data/other_data.csv', index = False)\n",
    "respondent_data.to_csv('data/respondent_data.csv', index = False)"
   ]
  },
  {
   "cell_type": "code",
   "execution_count": 38,
   "id": "872bbd38",
   "metadata": {},
   "outputs": [],
   "source": [
    "# Connections data\n",
    "with open(\"data/roommates_respondents.csv\", \"w\", newline=\"\") as f:\n",
    "    writer = csv.writer(f)\n",
    "    writer.writerows(roommates_respondents)\n",
    "    \n",
    "with open(\"data/friendships_respndents.csv\", \"w\", newline=\"\") as f:\n",
    "    writer = csv.writer(f)\n",
    "    writer.writerows(friendships_respndents)\n",
    "    \n",
    "with open(\"data/roommates_other.csv\", \"w\", newline=\"\") as f:\n",
    "    writer = csv.writer(f)\n",
    "    writer.writerows(roommates_other)\n",
    "    \n",
    "with open(\"data/friendships_other.csv\", \"w\", newline=\"\") as f:\n",
    "    writer = csv.writer(f)\n",
    "    writer.writerows(friendships_other)"
   ]
  }
 ],
 "metadata": {
  "kernelspec": {
   "display_name": "py_cs73",
   "language": "python",
   "name": "py_cs73"
  },
  "language_info": {
   "codemirror_mode": {
    "name": "ipython",
    "version": 3
   },
   "file_extension": ".py",
   "mimetype": "text/x-python",
   "name": "python",
   "nbconvert_exporter": "python",
   "pygments_lexer": "ipython3",
   "version": "3.9.12"
  }
 },
 "nbformat": 4,
 "nbformat_minor": 5
}
